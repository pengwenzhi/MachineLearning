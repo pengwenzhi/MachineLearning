{
 "cells": [
  {
   "cell_type": "markdown",
   "metadata": {},
   "source": [
    "# 超参数"
   ]
  },
  {
   "cell_type": "code",
   "execution_count": 1,
   "metadata": {},
   "outputs": [
    {
     "data": {
      "text/plain": [
       "0.9888888888888889"
      ]
     },
     "execution_count": 1,
     "metadata": {},
     "output_type": "execute_result"
    }
   ],
   "source": [
    "import numpy as np\n",
    "from sklearn import datasets\n",
    "\n",
    "digits = datasets.load_digits()\n",
    "X = digits.data\n",
    "y = digits.target\n",
    "\n",
    "from sklearn.model_selection import train_test_split\n",
    "\n",
    "X_train, X_test, y_train, y_test = train_test_split(X, y, test_size=0.2, random_state=666)\n",
    "\n",
    "from sklearn.neighbors import KNeighborsClassifier\n",
    "\n",
    "knn_clf = KNeighborsClassifier(n_neighbors=3)\n",
    "knn_clf.fit(X_train, y_train)\n",
    "knn_clf.score(X_test, y_test)"
   ]
  },
  {
   "cell_type": "markdown",
   "metadata": {},
   "source": [
    "### 寻找最好的k"
   ]
  },
  {
   "cell_type": "code",
   "execution_count": 3,
   "metadata": {},
   "outputs": [
    {
     "name": "stdout",
     "output_type": "stream",
     "text": [
      "best_k=  4\n",
      "best_score=  0.9916666666666667\n"
     ]
    }
   ],
   "source": [
    "best_score=0.0\n",
    "best_k=-1\n",
    "for k in range(1,11):\n",
    "    knn_clf=KNeighborsClassifier(n_neighbors=k)\n",
    "    knn_clf.fit(X_train,y_train)\n",
    "    score=knn_clf.score(X_test,y_test)\n",
    "    if score>best_score:\n",
    "        best_k=k\n",
    "        best_score=score\n",
    "print(\"best_k= \",best_k)\n",
    "print(\"best_score= \",best_score)"
   ]
  },
  {
   "cell_type": "markdown",
   "metadata": {},
   "source": [
    "### 考虑距离？不考虑距离？"
   ]
  },
  {
   "cell_type": "code",
   "execution_count": 4,
   "metadata": {},
   "outputs": [
    {
     "name": "stdout",
     "output_type": "stream",
     "text": [
      "best_k=  4\n",
      "best_score=  0.9916666666666667\n",
      "best_score= uniform\n"
     ]
    }
   ],
   "source": [
    "best_method=\"\"\n",
    "best_score=0.0\n",
    "best_k=-1\n",
    "for method in [\"uniform\",\"distance\"]:\n",
    "    for k in range(1,11):\n",
    "        knn_clf=KNeighborsClassifier(n_neighbors=k)\n",
    "        knn_clf.fit(X_train,y_train)\n",
    "        score=knn_clf.score(X_test,y_test)\n",
    "        if score>best_score:\n",
    "            best_k=k\n",
    "            best_score=score\n",
    "            best_method=method\n",
    "print(\"best_k= \",best_k)\n",
    "print(\"best_score= \",best_score)\n",
    "print(\"best_score=\",best_method)"
   ]
  },
  {
   "cell_type": "markdown",
   "metadata": {},
   "source": [
    "### 搜索明可夫斯基距离相应的p"
   ]
  },
  {
   "cell_type": "code",
   "execution_count": 8,
   "metadata": {},
   "outputs": [
    {
     "name": "stdout",
     "output_type": "stream",
     "text": [
      "best_k=  3\n",
      "best_score=  0.9888888888888889\n",
      "best_p= 2\n",
      "Wall time: 35.6 s\n"
     ]
    }
   ],
   "source": [
    "%%time\n",
    "best_p=-1\n",
    "best_score=0.0\n",
    "best_k=-1\n",
    "    \n",
    "for k in range(1,11):\n",
    "    for p in range(1,6):\n",
    "        knn_clf=KNeighborsClassifier(n_neighbors=k,weights=\"distance\",p=p)\n",
    "        knn_clf.fit(X_train,y_train)\n",
    "        score=knn_clf.score(X_test,y_test)\n",
    "        if score>best_score:\n",
    "            best_k=k\n",
    "            best_score=score\n",
    "            best_p=p\n",
    "print(\"best_k= \",best_k)\n",
    "print(\"best_score= \",best_score)\n",
    "print(\"best_p=\",best_p)"
   ]
  },
  {
   "cell_type": "code",
   "execution_count": null,
   "metadata": {},
   "outputs": [],
   "source": []
  }
 ],
 "metadata": {
  "kernelspec": {
   "display_name": "Python 3",
   "language": "python",
   "name": "python3"
  },
  "language_info": {
   "codemirror_mode": {
    "name": "ipython",
    "version": 3
   },
   "file_extension": ".py",
   "mimetype": "text/x-python",
   "name": "python",
   "nbconvert_exporter": "python",
   "pygments_lexer": "ipython3",
   "version": "3.8.5"
  }
 },
 "nbformat": 4,
 "nbformat_minor": 4
}
