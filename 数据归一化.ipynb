{
 "cells": [
  {
   "cell_type": "markdown",
   "metadata": {},
   "source": [
    "# 数据归一化处理"
   ]
  },
  {
   "cell_type": "code",
   "execution_count": 1,
   "metadata": {},
   "outputs": [],
   "source": [
    "import numpy as np\n",
    "import matplotlib.pyplot as plt"
   ]
  },
  {
   "cell_type": "markdown",
   "metadata": {},
   "source": [
    "### 最值归一化 Normalization"
   ]
  },
  {
   "cell_type": "code",
   "execution_count": 2,
   "metadata": {},
   "outputs": [],
   "source": [
    "x=np.random.randint(0,100,size=100)"
   ]
  },
  {
   "cell_type": "code",
   "execution_count": 3,
   "metadata": {},
   "outputs": [
    {
     "data": {
      "text/plain": [
       "array([78, 78, 46,  4, 91, 69, 74, 11,  7,  3, 74, 33, 75, 10, 48,  0, 18,\n",
       "       26, 69,  7, 51, 65, 55, 10, 89, 92, 27, 53, 19, 21, 87, 43, 40, 24,\n",
       "       81, 34, 46, 77, 12, 33, 69, 63, 20, 10, 30, 35, 43, 77, 93, 57,  9,\n",
       "       48, 27, 26, 67, 26, 15, 31, 92, 77, 78, 23, 15, 89, 41, 98, 41, 84,\n",
       "       88, 40, 33,  4,  7, 30, 98, 65, 40, 72, 48, 59, 53, 73, 34, 57, 70,\n",
       "       66, 17, 46, 32, 51, 24, 85, 53, 15, 11, 75,  1, 11, 10,  4])"
      ]
     },
     "execution_count": 3,
     "metadata": {},
     "output_type": "execute_result"
    }
   ],
   "source": [
    "x"
   ]
  },
  {
   "cell_type": "code",
   "execution_count": 4,
   "metadata": {},
   "outputs": [
    {
     "data": {
      "text/plain": [
       "array([0.79591837, 0.79591837, 0.46938776, 0.04081633, 0.92857143,\n",
       "       0.70408163, 0.75510204, 0.1122449 , 0.07142857, 0.03061224,\n",
       "       0.75510204, 0.33673469, 0.76530612, 0.10204082, 0.48979592,\n",
       "       0.        , 0.18367347, 0.26530612, 0.70408163, 0.07142857,\n",
       "       0.52040816, 0.66326531, 0.56122449, 0.10204082, 0.90816327,\n",
       "       0.93877551, 0.2755102 , 0.54081633, 0.19387755, 0.21428571,\n",
       "       0.8877551 , 0.43877551, 0.40816327, 0.24489796, 0.82653061,\n",
       "       0.34693878, 0.46938776, 0.78571429, 0.12244898, 0.33673469,\n",
       "       0.70408163, 0.64285714, 0.20408163, 0.10204082, 0.30612245,\n",
       "       0.35714286, 0.43877551, 0.78571429, 0.94897959, 0.58163265,\n",
       "       0.09183673, 0.48979592, 0.2755102 , 0.26530612, 0.68367347,\n",
       "       0.26530612, 0.15306122, 0.31632653, 0.93877551, 0.78571429,\n",
       "       0.79591837, 0.23469388, 0.15306122, 0.90816327, 0.41836735,\n",
       "       1.        , 0.41836735, 0.85714286, 0.89795918, 0.40816327,\n",
       "       0.33673469, 0.04081633, 0.07142857, 0.30612245, 1.        ,\n",
       "       0.66326531, 0.40816327, 0.73469388, 0.48979592, 0.60204082,\n",
       "       0.54081633, 0.74489796, 0.34693878, 0.58163265, 0.71428571,\n",
       "       0.67346939, 0.17346939, 0.46938776, 0.32653061, 0.52040816,\n",
       "       0.24489796, 0.86734694, 0.54081633, 0.15306122, 0.1122449 ,\n",
       "       0.76530612, 0.01020408, 0.1122449 , 0.10204082, 0.04081633])"
      ]
     },
     "execution_count": 4,
     "metadata": {},
     "output_type": "execute_result"
    }
   ],
   "source": [
    "(x-np.min(x))/(np.max(x)-np.min(x))"
   ]
  },
  {
   "cell_type": "code",
   "execution_count": 5,
   "metadata": {},
   "outputs": [],
   "source": [
    "X=np.random.randint(0,100,(50,2))"
   ]
  },
  {
   "cell_type": "code",
   "execution_count": 6,
   "metadata": {},
   "outputs": [
    {
     "data": {
      "text/plain": [
       "array([[72, 43],\n",
       "       [15, 46],\n",
       "       [31,  7],\n",
       "       [72, 82],\n",
       "       [39,  1],\n",
       "       [20, 70],\n",
       "       [76, 50],\n",
       "       [50, 89],\n",
       "       [28,  9],\n",
       "       [15, 82]])"
      ]
     },
     "execution_count": 6,
     "metadata": {},
     "output_type": "execute_result"
    }
   ],
   "source": [
    "X[:10,:]"
   ]
  },
  {
   "cell_type": "code",
   "execution_count": 7,
   "metadata": {},
   "outputs": [],
   "source": [
    "X=np.array(X,dtype=float)"
   ]
  },
  {
   "cell_type": "code",
   "execution_count": 8,
   "metadata": {},
   "outputs": [
    {
     "data": {
      "text/plain": [
       "array([[72., 43.],\n",
       "       [15., 46.],\n",
       "       [31.,  7.],\n",
       "       [72., 82.],\n",
       "       [39.,  1.],\n",
       "       [20., 70.],\n",
       "       [76., 50.],\n",
       "       [50., 89.],\n",
       "       [28.,  9.],\n",
       "       [15., 82.]])"
      ]
     },
     "execution_count": 8,
     "metadata": {},
     "output_type": "execute_result"
    }
   ],
   "source": [
    "X[:10,:]"
   ]
  },
  {
   "cell_type": "code",
   "execution_count": 10,
   "metadata": {},
   "outputs": [],
   "source": [
    "X[:,0]=(X[:,0]-np.min(X[:,0]))/(np.max(X[:,0])-np.min(X[:,0]))"
   ]
  },
  {
   "cell_type": "code",
   "execution_count": null,
   "metadata": {},
   "outputs": [],
   "source": []
  },
  {
   "cell_type": "code",
   "execution_count": 11,
   "metadata": {},
   "outputs": [],
   "source": [
    "X[:,1]=(X[:,1]-np.min(X[:,1]))/(np.max(X[:,1])-np.min(X[:,1]))"
   ]
  },
  {
   "cell_type": "code",
   "execution_count": 12,
   "metadata": {},
   "outputs": [
    {
     "data": {
      "text/plain": [
       "array([[0.73404255, 0.43434343],\n",
       "       [0.12765957, 0.46464646],\n",
       "       [0.29787234, 0.07070707],\n",
       "       [0.73404255, 0.82828283],\n",
       "       [0.38297872, 0.01010101],\n",
       "       [0.18085106, 0.70707071],\n",
       "       [0.77659574, 0.50505051],\n",
       "       [0.5       , 0.8989899 ],\n",
       "       [0.26595745, 0.09090909],\n",
       "       [0.12765957, 0.82828283]])"
      ]
     },
     "execution_count": 12,
     "metadata": {},
     "output_type": "execute_result"
    }
   ],
   "source": [
    "X[:10,:]"
   ]
  },
  {
   "cell_type": "code",
   "execution_count": 13,
   "metadata": {},
   "outputs": [
    {
     "data": {
      "text/plain": [
       "<matplotlib.collections.PathCollection at 0x204f646a490>"
      ]
     },
     "execution_count": 13,
     "metadata": {},
     "output_type": "execute_result"
    },
    {
     "data": {
      "image/png": "[encoded data removed]",
      "text/plain": [
       "<Figure size 432x288 with 1 Axes>"
      ]
     },
     "metadata": {
      "needs_background": "light"
     },
     "output_type": "display_data"
    }
   ],
   "source": [
    "plt.scatter(X[:,0],X[:,1])"
   ]
  },
  {
   "cell_type": "code",
   "execution_count": 14,
   "metadata": {},
   "outputs": [],
   "source": [
    "plt.show()"
   ]
  },
  {
   "cell_type": "code",
   "execution_count": 15,
   "metadata": {},
   "outputs": [
    {
     "data": {
      "text/plain": [
       "0.4742553191489362"
      ]
     },
     "execution_count": 15,
     "metadata": {},
     "output_type": "execute_result"
    }
   ],
   "source": [
    "np.mean(X[:,0])"
   ]
  },
  {
   "cell_type": "code",
   "execution_count": 16,
   "metadata": {},
   "outputs": [
    {
     "data": {
      "text/plain": [
       "0.2957759818121322"
      ]
     },
     "execution_count": 16,
     "metadata": {},
     "output_type": "execute_result"
    }
   ],
   "source": [
    "np.std(X[:,0])"
   ]
  },
  {
   "cell_type": "code",
   "execution_count": 17,
   "metadata": {},
   "outputs": [
    {
     "data": {
      "text/plain": [
       "0.47030303030303033"
      ]
     },
     "execution_count": 17,
     "metadata": {},
     "output_type": "execute_result"
    }
   ],
   "source": [
    "np.mean(X[:,1])"
   ]
  },
  {
   "cell_type": "code",
   "execution_count": 18,
   "metadata": {},
   "outputs": [
    {
     "data": {
      "text/plain": [
       "0.30687234422382137"
      ]
     },
     "execution_count": 18,
     "metadata": {},
     "output_type": "execute_result"
    }
   ],
   "source": [
    "np.std(X[:,1])"
   ]
  },
  {
   "cell_type": "markdown",
   "metadata": {},
   "source": [
    "### 均值方差归一化 Standardization"
   ]
  },
  {
   "cell_type": "code",
   "execution_count": 19,
   "metadata": {},
   "outputs": [],
   "source": [
    "X2=np.random.randint(0,100,(50,2))"
   ]
  },
  {
   "cell_type": "code",
   "execution_count": 20,
   "metadata": {},
   "outputs": [],
   "source": [
    "X2=np.array(X2,dtype=float)"
   ]
  },
  {
   "cell_type": "code",
   "execution_count": 22,
   "metadata": {},
   "outputs": [],
   "source": [
    "X2[:,0]=(X2[:,0]-np.mean(X2[:,0]))/np.std(X2[:,0])"
   ]
  },
  {
   "cell_type": "code",
   "execution_count": 24,
   "metadata": {},
   "outputs": [],
   "source": [
    "X2[:,1]=(X2[:,1]-np.mean(X2[:,1]))/np.std(X2[:,1])"
   ]
  },
  {
   "cell_type": "code",
   "execution_count": 25,
   "metadata": {},
   "outputs": [
    {
     "data": {
      "image/png": "[encoded data removed]",
      "text/plain": [
       "<Figure size 432x288 with 1 Axes>"
      ]
     },
     "metadata": {
      "needs_background": "light"
     },
     "output_type": "display_data"
    }
   ],
   "source": [
    "plt.scatter(X2[:,0],X2[:,1])\n",
    "plt.show()"
   ]
  },
  {
   "cell_type": "code",
   "execution_count": 26,
   "metadata": {},
   "outputs": [
    {
     "data": {
      "text/plain": [
       "4.440892098500626e-18"
      ]
     },
     "execution_count": 26,
     "metadata": {},
     "output_type": "execute_result"
    }
   ],
   "source": [
    "np.mean(X2[:,0])"
   ]
  },
  {
   "cell_type": "code",
   "execution_count": 27,
   "metadata": {},
   "outputs": [
    {
     "data": {
      "text/plain": [
       "1.0"
      ]
     },
     "execution_count": 27,
     "metadata": {},
     "output_type": "execute_result"
    }
   ],
   "source": [
    "np.std(X2[:,0])"
   ]
  },
  {
   "cell_type": "code",
   "execution_count": 28,
   "metadata": {},
   "outputs": [
    {
     "data": {
      "text/plain": [
       "2.6645352591003756e-17"
      ]
     },
     "execution_count": 28,
     "metadata": {},
     "output_type": "execute_result"
    }
   ],
   "source": [
    "np.mean(X2[:,1])"
   ]
  },
  {
   "cell_type": "code",
   "execution_count": 29,
   "metadata": {},
   "outputs": [
    {
     "data": {
      "text/plain": [
       "1.0"
      ]
     },
     "execution_count": 29,
     "metadata": {},
     "output_type": "execute_result"
    }
   ],
   "source": [
    "np.std(X2[:,1])"
   ]
  },
  {
   "cell_type": "code",
   "execution_count": null,
   "metadata": {},
   "outputs": [],
   "source": []
  }
 ],
 "metadata": {
  "kernelspec": {
   "display_name": "Python 3",
   "language": "python",
   "name": "python3"
  },
  "language_info": {
   "codemirror_mode": {
    "name": "ipython",
    "version": 3
   },
   "file_extension": ".py",
   "mimetype": "text/x-python",
   "name": "python",
   "nbconvert_exporter": "python",
   "pygments_lexer": "ipython3",
   "version": "3.8.5"
  }
 },
 "nbformat": 4,
 "nbformat_minor": 4
}
